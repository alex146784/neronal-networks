{
 "cells": [
  {
   "cell_type": "markdown",
   "metadata": {},
   "source": [
    "# Testen des neuronalen Netzes Kontinuierlich"
   ]
  },
  {
   "cell_type": "markdown",
   "metadata": {},
   "source": [
    "Zu Beginn müssen wieder alle Bibliotheken eingebunden werden."
   ]
  },
  {
   "cell_type": "code",
   "execution_count": 1,
   "metadata": {},
   "outputs": [],
   "source": [
    "#import all necessary packages\n",
    "import os\n",
    "import csv\n",
    "import numpy as np\n",
    "import pandas as pd\n",
    "#from numpy import genfromtxt\n",
    "#from random import randint\n",
    "from sklearn.utils import shuffle\n",
    "from sklearn.preprocessing import MinMaxScaler\n",
    "import tensorflow as tf\n",
    "from tensorflow import keras\n",
    "\n",
    "#%matplotlib inline\n",
    "from sklearn.metrics import confusion_matrix\n",
    "import itertools\n",
    "import matplotlib.pyplot as plt\n",
    "\n",
    "import IPython\n",
    "import kerastuner as kt\n",
    "\n"
   ]
  },
  {
   "cell_type": "markdown",
   "metadata": {},
   "source": [
    "Für den Fall, dass die Datensätze nicht im selben Verzeichnis wie die Python-Datei liegt muss das Verzeichnis des Datensatzes angegeben werden. Dies kann durch folgenden Befehl durchgeführt werden."
   ]
  },
  {
   "cell_type": "code",
   "execution_count": 2,
   "metadata": {},
   "outputs": [],
   "source": [
    "#function to set the start working directory manually\n",
    "#not necessary, if the .py file is executed in the directory of the .csv files\n",
    "#os.chdir('D:\\\\OneDrive - bwedu\\\\Uni\\\\09 ABC 1\\\\Neuronale Netzwerke\\\\Python\\\\Wein')\n",
    "\n",
    "\n"
   ]
  },
  {
   "cell_type": "markdown",
   "metadata": {},
   "source": [
    "Um die Ergebnisse des neuronalen Netzwerks darzustellen, empfiehlt es sich eine confusion Matrix zu verwenden. \n",
    "Um am Ende die Ergebnisse graphisch darsetellen (plotten) zu können, muss zuerst die Funktion zur Erstellung \n",
    "der Confusion Matrix definiert werden. Dies wird in folgendem Codeabschnitt gemacht \n",
    "(die exakte Bedeutung und Funktionsweise der Codezeilen geht an dieser Stelle über den Rahmen des Projekts hinaus).\n"
   ]
  },
  {
   "cell_type": "code",
   "execution_count": 3,
   "metadata": {},
   "outputs": [],
   "source": [
    "#Definition of the confusion matrix function (details not important)\n",
    "def plot_confusion_matrix(cm, classes,\n",
    "                          normalize=False,\n",
    "                          title='Confusion matrix',\n",
    "                          cmap=plt.cm.Blues):\n",
    "    \"\"\"\n",
    "    This function prints and plots the confusion matrix.\n",
    "    Normalization can be applied by setting `normalize=True`.\n",
    "    \"\"\"\n",
    "    plt.imshow(cm, interpolation='nearest', cmap=cmap)\n",
    "    plt.title(title)\n",
    "    plt.colorbar()\n",
    "    tick_marks = np.arange(len(classes))\n",
    "    plt.xticks(tick_marks, classes, rotation=45)\n",
    "    plt.yticks(tick_marks, classes)\n",
    "\n",
    "    if normalize:\n",
    "        cm = cm.astype('float') / cm.sum(axis=1)[:, np.newaxis]\n",
    "        print(\"Normalized confusion matrix\")\n",
    "    else:\n",
    "        print('Confusion matrix, without normalization')\n",
    "\n",
    "    print(cm)\n",
    "\n",
    "    thresh = cm.max() / 2.\n",
    "    for i, j in itertools.product(range(cm.shape[0]), range(cm.shape[1])):\n",
    "        plt.text(j, i, cm[i, j],\n",
    "                 horizontalalignment=\"center\",\n",
    "                 color=\"white\" if cm[i, j] > thresh else \"black\")\n",
    "\n",
    "    plt.tight_layout()\n",
    "    plt.ylabel('True label')\n",
    "    plt.xlabel('Predicted label')\n",
    "\t \n"
   ]
  },
  {
   "cell_type": "markdown",
   "metadata": {},
   "source": [
    "Nun wird das Arbeitsverzeichnis geändert. \n",
    "Dabei wird das Arbeitsverzeichnis so geändert, dass auf die zuvor vorbereiteten Daten zugegriffen werden kann. \n",
    "\n",
    "Codeabsatz 1 speichert das aktuelle Arbeitsverzeichnis.\n",
    "\n",
    "Codeabsatz 2 ändert das Arbeitsverzeichnis.\n",
    "\n",
    "Codeabsatz 3 importiert die mittels Datenvorbereitungsskript zuvor erstellten Daten.\n",
    "\n",
    "Codeabsatz 4 convertiert die Daten in ein numpy-Array uns skaliert die daten in den Bereich von 0-1. \n",
    "\n",
    "Dabei ist zu beachten, dass die erste Spalte des Datensatzes nicht relevant ist und daher nicht beachtet wird.\n",
    "\n",
    "Im letzten Codeabsatz wird nach dem Import der Daten wieder in das Ausgangsverzeichnis gewechselt. "
   ]
  },
  {
   "cell_type": "code",
   "execution_count": 4,
   "metadata": {},
   "outputs": [],
   "source": [
    "#save the current working directory\n",
    "current_wd = os.getcwd()\n",
    "\n",
    "#change the working directory to the 'prep_dataset' directroy, where the prepared data a saved as .csv files\n",
    "os.chdir('prep_dataset')\n",
    "\n",
    "#import the prepared data as panda dataframes\n",
    "W_test_samples = pd.read_csv('wine_test_samples.csv')\n",
    "W_test_labels = pd.read_csv('wine_test_labels_cont.csv')\n",
    "\n",
    "#convert panda dataframe to a numpy array\n",
    "#leave out the first column, because this are the rownumernumbers\n",
    "W_test_samples = pd.DataFrame.to_numpy(W_test_samples)[:,1:13]\n",
    "W_test_labels = pd.DataFrame.to_numpy(W_test_labels)[:,1]\n",
    "\n",
    "#change the working directory back to the original working directory\n",
    "os.chdir(current_wd)"
   ]
  },
  {
   "cell_type": "markdown",
   "metadata": {},
   "source": [
    "Nun wird das mit Skript 2 erstellte optimierte neuronale Netz geladen."
   ]
  },
  {
   "cell_type": "code",
   "execution_count": 5,
   "metadata": {},
   "outputs": [],
   "source": [
    "#load the model, saved by training befor\n",
    "model = keras.models.load_model(\"wine_quality_continious_actfunc.h5\")\n",
    "\n",
    "\n"
   ]
  },
  {
   "cell_type": "markdown",
   "metadata": {},
   "source": [
    "Nun erfolgt die Auswertung des Testdatensatzes mit dem Modell. Um die korrekten Daten auszugeben muss hier nun \n",
    "mit 6 multipliziert und 3 addiert werden (da bei der Datenvorbereitung mit 6 dividiert und mit 3 subtrahiert wurde)\n",
    "\n",
    "Um die Daten in einer confusion-Matrix darzustellen werden die ausgegebenen Werte gerundet.\n"
   ]
  },
  {
   "cell_type": "code",
   "execution_count": 6,
   "metadata": {},
   "outputs": [
    {
     "name": "stdout",
     "output_type": "stream",
     "text": [
      "70/70 [==============================] - 0s 547us/step\n"
     ]
    }
   ],
   "source": [
    "#make predictions with the model for the test dataset\n",
    "predictions = (model.predict(x = W_test_samples, batch_size = 10, verbose = 1 )*6) + 3\n",
    "\n",
    "rounded_predictions = np.round(predictions,0)\n",
    "\n"
   ]
  },
  {
   "cell_type": "markdown",
   "metadata": {},
   "source": [
    "Mit folgendem Codeabsatz wird die confusion-Matrix erstellt. "
   ]
  },
  {
   "cell_type": "code",
   "execution_count": 7,
   "metadata": {},
   "outputs": [
    {
     "name": "stdout",
     "output_type": "stream",
     "text": [
      "Confusion matrix, without normalization\n",
      "[[  0   0   0   2   0   0]\n",
      " [  0   0  19   4   0   0]\n",
      " [  0   1 135  92   8   0]\n",
      " [  0   0  55 204  40   0]\n",
      " [  0   0   3  60  47   0]\n",
      " [  0   0   0   9  18   0]]\n"
     ]
    },
    {
     "data": {
      "image/png": "[encoded data removed]",
      "text/plain": [
       "<Figure size 432x288 with 2 Axes>"
      ]
     },
     "metadata": {
      "needs_background": "light"
     },
     "output_type": "display_data"
    }
   ],
   "source": [
    "#create the confusion matrix\n",
    "plt.figure(1)\n",
    "cm = confusion_matrix(y_true=W_test_labels, y_pred=rounded_predictions)\n",
    "#define the labels for the categories\n",
    "cm_plot_labels = ['3','4', '5', '6', '7', '8', '9']\n",
    "#plot the confusion matrix, with the function defined above\n",
    "plot_confusion_matrix(cm=cm, classes=cm_plot_labels, title='Confusion Matrix')\n",
    "\n",
    "\n"
   ]
  },
  {
   "cell_type": "markdown",
   "metadata": {},
   "source": [
    "Zu sehen ist, dass die Daten sehr ungleich verteilt waren. Aufgrund der ungleich verteilten Daten (siehe Tabelle) und da es nicht möglich ist im kontinuierlichen Test die Daten zu gewichten, ist das Training des neuronalen Netzes für Weine dieser Güte nicht besonders gut.\n",
    "\n",
    "\n",
    "Im mittleren Qualitätsbereich (Güte 5-7) ist zu sehen, dass die Zuordnung erfolgreich ist, jedoch bei Weinen der schlechteren und besseren Güte komplett versagt. "
   ]
  },
  {
   "cell_type": "markdown",
   "metadata": {},
   "source": [
    "Mit folgendem Codeabsatz erfolgt die Erstellung eines predicted vs. real results-Plottes. \n",
    "\n",
    "Auch hier ist die Ungleichverteilung der Weine zu sehen (sehr große Streuung) jedoch ist das neuronale Netz gut genug, einen groben Trend zu erkennen. \n",
    "\n",
    "Beim Vergleich des Ergebnisses unseres neuronalen Netzes mit der klassischen PLS (partial least squares)-Regression  ist zu sehen, dass die Regression des neuronalen Netzes etwas besser ist."
   ]
  },
  {
   "cell_type": "code",
   "execution_count": 8,
   "metadata": {},
   "outputs": [
    {
     "name": "stderr",
     "output_type": "stream",
     "text": [
      "No handles with labels found to put in legend.\n"
     ]
    },
    {
     "data": {
      "image/png": "[encoded data removed]",
      "text/plain": [
       "<Figure size 432x288 with 1 Axes>"
      ]
     },
     "metadata": {
      "needs_background": "light"
     },
     "output_type": "display_data"
    }
   ],
   "source": [
    "#plot the predicted vs the real results\n",
    "plt.figure(2)\n",
    "plt.scatter(W_test_labels, predictions, s = 0.3, marker = \".\")\n",
    "plt.xlabel(\"real quality\")\n",
    "plt.ylabel(\"predicted quality\")\n",
    "plt.legend(loc='upper left')\n",
    "plt.show()"
   ]
  }
 ],
 "metadata": {
  "kernelspec": {
   "display_name": "Python 3",
   "language": "python",
   "name": "python3"
  },
  "language_info": {
   "codemirror_mode": {
    "name": "ipython",
    "version": 3
   },
   "file_extension": ".py",
   "mimetype": "text/x-python",
   "name": "python",
   "nbconvert_exporter": "python",
   "pygments_lexer": "ipython3",
   "version": "3.8.3"
  }
 },
 "nbformat": 4,
 "nbformat_minor": 4
}
