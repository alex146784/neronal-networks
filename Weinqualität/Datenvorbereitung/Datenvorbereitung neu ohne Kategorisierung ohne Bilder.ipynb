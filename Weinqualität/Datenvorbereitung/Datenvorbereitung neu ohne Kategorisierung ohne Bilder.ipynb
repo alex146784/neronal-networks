{
 "cells": [
  {
   "cell_type": "markdown",
   "metadata": {},
   "source": [
    "# Code zum Einlesen der Daten"
   ]
  },
  {
   "cell_type": "markdown",
   "metadata": {},
   "source": [
    "Zu Beginn müssen wieder alle Bibliotheken eingebunden werden."
   ]
  },
  {
   "cell_type": "code",
   "execution_count": 1,
   "metadata": {},
   "outputs": [],
   "source": [
    "#import of all necessary packages\n",
    "import os\n",
    "import numpy as np\n",
    "import pandas as pd\n",
    "from sklearn.utils import shuffle\n",
    "from sklearn.preprocessing import MinMaxScaler\n",
    "\n"
   ]
  },
  {
   "cell_type": "markdown",
   "metadata": {},
   "source": [
    "Für den Fall, dass die Datensätze nicht im selben Verzeichnis wie die Python-Datei liegt muss das Verzeichnis des Datensatzes angegeben werden. Dies kann durch folgenden Befehl durchgeführt werden."
   ]
  },
  {
   "cell_type": "code",
   "execution_count": 2,
   "metadata": {},
   "outputs": [],
   "source": [
    "#function to set the start working directory manually\n",
    "#not necessary, if the .py file is executed in the directory of the .csv files\n",
    "\n",
    "#os.chdir('D:\\\\OneDrive - bwedu\\\\Uni\\\\09 ABC 1\\\\Neuronale Netzwerke\\\\Python\\\\Wein')\n"
   ]
  },
  {
   "cell_type": "markdown",
   "metadata": {},
   "source": [
    "Anschließend folgt der Import der Datensätze. Die importierten Daten müssen anschließend in ein numpy-Array konvertiert werden."
   ]
  },
  {
   "cell_type": "code",
   "execution_count": 3,
   "metadata": {},
   "outputs": [],
   "source": [
    "#load raw data from the .csv files as panda dataframe\n",
    "RW_orig = pd.read_csv('Rotwein.csv')\n",
    "WW_orig = pd.read_csv('Weisswein.csv')\n",
    "\n",
    "#convert panda dataframe to a numpy array\n",
    "RW = pd.DataFrame.to_numpy(RW_orig)\n",
    "WW = pd.DataFrame.to_numpy(WW_orig)"
   ]
  },
  {
   "cell_type": "markdown",
   "metadata": {},
   "source": [
    "Erstellung und Zuordnung der Variablen für Rot (0)- und Weißweine (1):"
   ]
  },
  {
   "cell_type": "code",
   "execution_count": 4,
   "metadata": {},
   "outputs": [],
   "source": [
    "#create a new variabele for the two categories red (0) and white wine (1)\n",
    "RW_num =  np.zeros((RW.shape[0],1), dtype = int) \n",
    "WW_num = np.ones((WW.shape[0],1), dtype = int)\n",
    "\n"
   ]
  },
  {
   "cell_type": "markdown",
   "metadata": {},
   "source": [
    "Hinzufügen der beiden Variablen in die Datensätze (horizontales Stacken):\n",
    "\n"
   ]
  },
  {
   "cell_type": "code",
   "execution_count": 5,
   "metadata": {},
   "outputs": [],
   "source": [
    "#add the new variable two the datasets\n",
    "RW = np.hstack((RW_num, RW))\n",
    "WW = np.hstack((WW_num, WW))\n",
    "\n"
   ]
  },
  {
   "cell_type": "markdown",
   "metadata": {},
   "source": [
    "Vereinigung der beiden Datensätze zu einem gesammten Datensatz (vertikales Stacken):\n"
   ]
  },
  {
   "cell_type": "code",
   "execution_count": 6,
   "metadata": {},
   "outputs": [],
   "source": [
    "#Merge the two datasets\n",
    "W = np.vstack((RW, WW))\n",
    "\n"
   ]
  },
  {
   "cell_type": "markdown",
   "metadata": {},
   "source": [
    "Randomisieren der Daten:"
   ]
  },
  {
   "cell_type": "code",
   "execution_count": 7,
   "metadata": {},
   "outputs": [],
   "source": [
    "#shuffle the dataset\n",
    "W = shuffle(W)\n",
    "\n"
   ]
  },
  {
   "cell_type": "markdown",
   "metadata": {},
   "source": [
    "Separieren der 12 Weincharakteristika von der Weinqualität (response):"
   ]
  },
  {
   "cell_type": "code",
   "execution_count": 8,
   "metadata": {},
   "outputs": [],
   "source": [
    "#seperate the sample columns from the column with the labels (winequality)\n",
    "W_samples = W[:,0:12]\n",
    "W_labels = W[:,12]  \n",
    "\n"
   ]
  },
  {
   "cell_type": "markdown",
   "metadata": {},
   "source": [
    "Überführen der Daten in ein für das Netzwerk geeigneten Zahlenbereich (0-1)"
   ]
  },
  {
   "cell_type": "code",
   "execution_count": 9,
   "metadata": {},
   "outputs": [],
   "source": [
    "#scale the sample variables in a range from 0 to 1 (ANN can only work with numbers from 0 to 1)\n",
    "scaler = MinMaxScaler(feature_range=(0,1))\n",
    "scaled_W_samples = scaler.fit_transform(W_samples)\n",
    "\n"
   ]
  },
  {
   "cell_type": "markdown",
   "metadata": {},
   "source": [
    "Danach wird unser Datensatz in einen Trainings- und Testdatensatz aufgesplittet, da wir nur einen Ausgangsdatensatz zur Verfügung haben."
   ]
  },
  {
   "cell_type": "code",
   "execution_count": 10,
   "metadata": {},
   "outputs": [],
   "source": [
    "#seperate the dataset into a training and a test dataset\t\n",
    "W_train_samples = scaled_W_samples[0:5800,]\n",
    "W_test_samples = scaled_W_samples[5800:6497,]\n",
    "\n",
    "\n"
   ]
  },
  {
   "cell_type": "markdown",
   "metadata": {},
   "source": [
    "Nun werden die Daten in ein neues Verzeichnis abgespeichert. Dies hat den Vorteil, dass Datenvorbereitung und Training voneinander entkoppelt sind. Sollte z.B. beim Trainieren ein Fehler auftreten oder das Trainingsskript mehr als nur 1-Mal durchgeführt werden, müssen die Daten nicht erneut vorbereitet werden. \n",
    "\n",
    "Codeabsatz 1 erstellt den Ordner für die Ablage der Dateien (sofern dieser noch nicht vorhanden ist) und Absatz 2 speichert die vorbereiteten Dateien in diesen Ordner ab. "
   ]
  },
  {
   "cell_type": "code",
   "execution_count": 11,
   "metadata": {},
   "outputs": [],
   "source": [
    "#save the current working directory\n",
    "current_wd = os.getcwd()\n",
    "#check if a directory 'prep_dataset' excist in the current working directory, if not then create it\n",
    "if os.path.isdir('prep_dataset') is False:\n",
    "    os.makedirs('prep_dataset')\n",
    "#change the working directory to the directory 'prep_dataset'\n",
    "os.chdir('prep_dataset')\n",
    "\n",
    "#export all the numpy arrays as .csv file, by converting it to a panda dataframe and then exporting as a .csv file\n",
    "pd.DataFrame(W_train_samples).to_csv(\"wine_train_samples.csv\")\n",
    "pd.DataFrame(W_test_samples).to_csv(\"wine_test_samples.csv\")\n",
    "\n",
    "\n"
   ]
  },
  {
   "cell_type": "markdown",
   "metadata": {},
   "source": [
    "Durch den folgenden Befehl wird der eben erstellte Unterordner wieder verlassen und die Datenvorbereitung ist abgeschlossen. "
   ]
  },
  {
   "cell_type": "code",
   "execution_count": 12,
   "metadata": {},
   "outputs": [],
   "source": [
    "#change the working directory back to the original working directory\n",
    "os.chdir(current_wd)"
   ]
  }
 ],
 "metadata": {
  "kernelspec": {
   "display_name": "Python 3",
   "language": "python",
   "name": "python3"
  },
  "language_info": {
   "codemirror_mode": {
    "name": "ipython",
    "version": 3
   },
   "file_extension": ".py",
   "mimetype": "text/x-python",
   "name": "python",
   "nbconvert_exporter": "python",
   "pygments_lexer": "ipython3",
   "version": "3.8.3"
  }
 },
 "nbformat": 4,
 "nbformat_minor": 4
}
