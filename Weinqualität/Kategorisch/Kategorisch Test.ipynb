{
 "cells": [
  {
   "cell_type": "markdown",
   "metadata": {},
   "source": [
    "# Testen des neuronalen Netzes Kategorisch"
   ]
  },
  {
   "cell_type": "markdown",
   "metadata": {},
   "source": [
    "Zu Beginn müssen wieder alle Bibliotheken eingebunden werden."
   ]
  },
  {
   "cell_type": "code",
   "execution_count": 1,
   "metadata": {},
   "outputs": [],
   "source": [
    "#import all necessary packages\n",
    "import os\n",
    "import csv\n",
    "import numpy as np\n",
    "import pandas as pd\n",
    "#from numpy import genfromtxt\n",
    "#from random import randint\n",
    "from sklearn.utils import shuffle\n",
    "from sklearn.preprocessing import MinMaxScaler\n",
    "import tensorflow as tf\n",
    "from tensorflow import keras\n",
    "\n",
    "#%matplotlib inline\n",
    "from sklearn.metrics import confusion_matrix\n",
    "import itertools\n",
    "import matplotlib.pyplot as plt\n",
    "\n",
    "import IPython\n",
    "import kerastuner as kt\n",
    "\n"
   ]
  },
  {
   "cell_type": "markdown",
   "metadata": {},
   "source": [
    "Für den Fall, dass die Datensätze nicht im selben Verzeichnis wie die Python-Datei liegt muss das Verzeichnis des Datensatzes angegeben werden. Dies kann durch folgenden Befehl durchgeführt werden:"
   ]
  },
  {
   "cell_type": "code",
   "execution_count": 2,
   "metadata": {},
   "outputs": [],
   "source": [
    "#function to set the start working directory manually\n",
    "#not necessary, if the .py file is executed in the directory of the .csv files\n",
    "#os.chdir('D:\\\\OneDrive - bwedu\\\\Uni\\\\09 ABC 1\\\\Neuronale Netzwerke\\\\Python\\\\Wein')\n",
    "\n"
   ]
  },
  {
   "cell_type": "markdown",
   "metadata": {},
   "source": [
    "Um die Ergebnisse des neuronalen Netzwerks darzustellen, empfiehlt es sich eine confusion Matrix zu verwenden. \n",
    "Um am Ende die Ergebnisse graphisch darsetellen (plotten) zu können, muss zuerst die Funktion zur Erstellung \n",
    "der Confusion Matrix definiert werden. Dies wird in folgendem Codeabschnitt gemacht \n",
    "(die exakte Bedeutung und Funktionsweise der Codezeilen geht an dieser Stelle über den Rahmen des Projekts hinaus).\n"
   ]
  },
  {
   "cell_type": "code",
   "execution_count": 3,
   "metadata": {},
   "outputs": [],
   "source": [
    "#Definition of the confusion matrix function, coppied from the internet (details not important)\n",
    "def plot_confusion_matrix(cm, classes,\n",
    "                          normalize=False,\n",
    "                          title='Confusion matrix',\n",
    "                          cmap=plt.cm.Blues):\n",
    "    \"\"\"\n",
    "    This function prints and plots the confusion matrix.\n",
    "    Normalization can be applied by setting `normalize=True`.\n",
    "    \"\"\"\n",
    "    plt.imshow(cm, interpolation='nearest', cmap=cmap)\n",
    "    plt.title(title)\n",
    "    plt.colorbar()\n",
    "    tick_marks = np.arange(len(classes))\n",
    "    plt.xticks(tick_marks, classes, rotation=45)\n",
    "    plt.yticks(tick_marks, classes)\n",
    "\n",
    "    if normalize:\n",
    "        cm = cm.astype('float') / cm.sum(axis=1)[:, np.newaxis]\n",
    "        print(\"Normalized confusion matrix\")\n",
    "    else:\n",
    "        print('Confusion matrix, without normalization')\n",
    "\n",
    "    print(cm)\n",
    "\n",
    "    thresh = cm.max() / 2.\n",
    "    for i, j in itertools.product(range(cm.shape[0]), range(cm.shape[1])):\n",
    "        plt.text(j, i, cm[i, j],\n",
    "                 horizontalalignment=\"center\",\n",
    "                 color=\"white\" if cm[i, j] > thresh else \"black\")\n",
    "\n",
    "    plt.tight_layout()\n",
    "    plt.ylabel('True label')\n",
    "    plt.xlabel('Predicted label')\n",
    "\t \n"
   ]
  },
  {
   "cell_type": "markdown",
   "metadata": {},
   "source": [
    "Nun wird das Arbeitsverzeichnis geändert. \n",
    "Dabei wird das Arbeitsverzeichnis so geändert, dass auf die zuvor vorbereiteten Daten zugegriffen werden kann. \n",
    "\n",
    "Codeabsatz 1 speichert das aktuelle Arbeitsverzeichnis.\n",
    "\n",
    "Codeabsatz 2 ändert das Arbeitsverzeichnis.\n",
    "\n",
    "Codeabsatz 3 importiert die im vorherigen Skript vorbereiteten Daten.\n",
    "\n",
    "Codeabsatz 4 convertiert die Daten in ein numpy-Array und skaliert die daten in den Bereich von 0-1.\n",
    "\n",
    "Dabei ist zu beachten, dass die erste Spalte des Datensatzes nicht von Relevanz ist und daher nicht beachtet wird, da diese lediglich die Nummerierung der Daten beinhaltet.\n",
    "\n",
    "Im letzten Codeabsatz wird nach dem Import der Daten wieder in das Ausgangsverzeichnis gewechselt. "
   ]
  },
  {
   "cell_type": "code",
   "execution_count": 4,
   "metadata": {},
   "outputs": [],
   "source": [
    "#save the current working directory\n",
    "current_wd = os.getcwd()\n",
    "\n",
    "#change the working directory to the 'prep_dataset' directroy, where the prepared data a saved as .csv files\n",
    "os.chdir('prep_dataset')\n",
    "\n",
    "#import the prepared data as panda dataframes\n",
    "W_test_samples = pd.read_csv('wine_test_samples.csv')\n",
    "W_test_labels = pd.read_csv('wine_test_labels_cont.csv')\n",
    "\n",
    "#convert panda dataframe to a numpy array\n",
    "#leave out the first column, because this are the rownumernumbers\n",
    "W_test_samples = pd.DataFrame.to_numpy(W_test_samples)[:,1:13]\n",
    "W_test_labels = pd.DataFrame.to_numpy(W_test_labels)[:,1]-3\n",
    "\n",
    "#change the working directory back to the original working directory\n",
    "os.chdir(current_wd)\n",
    "\n"
   ]
  },
  {
   "cell_type": "markdown",
   "metadata": {},
   "source": [
    "Nun wird das mit Skript 2 erstellte optimierte neuronale Netz geladen."
   ]
  },
  {
   "cell_type": "code",
   "execution_count": 5,
   "metadata": {},
   "outputs": [],
   "source": [
    "#load the model, saved by training befor\n",
    "model = keras.models.load_model(\"wine_quality_cat_full.h5\")\n",
    "\n"
   ]
  },
  {
   "cell_type": "markdown",
   "metadata": {},
   "source": [
    "Vorhersage mit dem Modell"
   ]
  },
  {
   "cell_type": "code",
   "execution_count": 6,
   "metadata": {},
   "outputs": [
    {
     "name": "stdout",
     "output_type": "stream",
     "text": [
      "70/70 [==============================] - 0s 571us/step\n"
     ]
    }
   ],
   "source": [
    "#make predictions with the model for the test dataset\n",
    "predictions = model.predict(x = W_test_samples, batch_size = 10, verbose = 1 )\n"
   ]
  },
  {
   "cell_type": "markdown",
   "metadata": {},
   "source": [
    "Runden der Werte, um diese in der confusion Matrix darzustellen"
   ]
  },
  {
   "cell_type": "code",
   "execution_count": 7,
   "metadata": {},
   "outputs": [],
   "source": [
    "#save the lable of the output node with the highest activation, this is the category the neuronal network sorted in the sample\n",
    "rounded_predictions = np.argmax(predictions, axis=-1)"
   ]
  },
  {
   "cell_type": "markdown",
   "metadata": {},
   "source": [
    "Mit folgendem Codeabsatz wird die confusion Matrix erstellt."
   ]
  },
  {
   "cell_type": "code",
   "execution_count": 8,
   "metadata": {},
   "outputs": [
    {
     "name": "stdout",
     "output_type": "stream",
     "text": [
      "Confusion matrix, without normalization\n",
      "[[  0   0   0   0   2   0   0]\n",
      " [  0  11  10   1   1   0   0]\n",
      " [  0  42 136  42  12   4   0]\n",
      " [  0  15  98  96  69  20   1]\n",
      " [  0   0  11  21  54  22   2]\n",
      " [  0   1   2   3   9  11   1]\n",
      " [  0   0   0   0   0   0   0]]\n"
     ]
    },
    {
     "data": {
      "image/png": "[encoded data removed]",
      "text/plain": [
       "<Figure size 432x288 with 2 Axes>"
      ]
     },
     "metadata": {
      "needs_background": "light"
     },
     "output_type": "display_data"
    }
   ],
   "source": [
    "#create the confusion matrix\n",
    "cm = confusion_matrix(y_true=W_test_labels, y_pred=rounded_predictions)\n",
    "#define the labels for the categories\n",
    "cm_plot_labels = ['3','4', '5', '6', '7', '8', '9']\n",
    "#plot the confusion matrix, with the function defined above\n",
    "plot_confusion_matrix(cm=cm, classes=cm_plot_labels, title='Confusion Matrix')"
   ]
  },
  {
   "cell_type": "markdown",
   "metadata": {},
   "source": [
    "Zu sehen ist, dass die Daten sehr ungleich verteilt waren. Da die ungleich verteilten Daten hier jedoch gewichtet werden können, kann der Effekt verringert werden. \n",
    "\n",
    "Im mittleren Qualitätsbereich (Güte 5-7) ist zu sehen, dass die Zuordnung erfolgreich ist, jedoch bei Weinen der schlechteren und besseren Güte versagt. "
   ]
  }
 ],
 "metadata": {
  "kernelspec": {
   "display_name": "Python 3",
   "language": "python",
   "name": "python3"
  },
  "language_info": {
   "codemirror_mode": {
    "name": "ipython",
    "version": 3
   },
   "file_extension": ".py",
   "mimetype": "text/x-python",
   "name": "python",
   "nbconvert_exporter": "python",
   "pygments_lexer": "ipython3",
   "version": "3.8.3"
  }
 },
 "nbformat": 4,
 "nbformat_minor": 4
}
